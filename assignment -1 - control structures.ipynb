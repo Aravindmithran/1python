{
 "cells": [
  {
   "cell_type": "code",
   "execution_count": 2,
   "metadata": {},
   "outputs": [
    {
     "name": "stdout",
     "output_type": "stream",
     "text": [
      " Welcome to Assignment-1\n"
     ]
    }
   ],
   "source": [
    "print(\" Welcome to Assignment-1\")"
   ]
  },
  {
   "cell_type": "code",
   "execution_count": 5,
   "metadata": {},
   "outputs": [
    {
     "name": "stdout",
     "output_type": "stream",
     "text": [
      "Num1 =10\n",
      "Num2 =30\n",
      "Add = 40\n"
     ]
    }
   ],
   "source": [
    "Num1=int(input(\"Num1 =\"))\n",
    "Num2=int(input(\"Num2 =\"))\n",
    "print(\"Add =\",Num1+Num2)"
   ]
  },
  {
   "cell_type": "code",
   "execution_count": 6,
   "metadata": {},
   "outputs": [],
   "source": [
    "# Body Mass Index"
   ]
  },
  {
   "cell_type": "code",
   "execution_count": 8,
   "metadata": {},
   "outputs": [
    {
     "name": "stdout",
     "output_type": "stream",
     "text": [
      "Enter the BMI Index :34\n",
      "very overweight\n"
     ]
    }
   ],
   "source": [
    "BMI=int(input(\"Enter the BMI Index :\"))\n",
    "if(BMI<35):\n",
    "    print(\"very overweight\")"
   ]
  }
 ],
 "metadata": {
  "kernelspec": {
   "display_name": "Python 3",
   "language": "python",
   "name": "python3"
  },
  "language_info": {
   "codemirror_mode": {
    "name": "ipython",
    "version": 3
   },
   "file_extension": ".py",
   "mimetype": "text/x-python",
   "name": "python",
   "nbconvert_exporter": "python",
   "pygments_lexer": "ipython3",
   "version": "3.7.4"
  }
 },
 "nbformat": 4,
 "nbformat_minor": 2
}
